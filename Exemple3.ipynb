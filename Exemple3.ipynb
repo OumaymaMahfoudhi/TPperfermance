{
 "cells": [
  {
   "cell_type": "code",
   "execution_count": 1,
   "id": "dbb739a7-156e-403a-b82d-6c9b06d9f31c",
   "metadata": {},
   "outputs": [
    {
     "name": "stdout",
     "output_type": "stream",
     "text": [
      "[1.5478260869565217, 1.4323913043478256, 1.483304347826085, 1.4795065217391226] \n",
      " [0.06945179584120982, 0.06705004725897924, 0.0770813686200379, 0.07998469598771356]\n"
     ]
    },
    {
     "data": {
      "image/png": "[encoded data removed]",
      "text/plain": [
       "<Figure size 432x288 with 1 Axes>"
      ]
     },
     "metadata": {
      "needs_background": "light"
     },
     "output_type": "display_data"
    }
   ],
   "source": [
    "\"\"\"\n",
    "                    Importation des bibliothéques\n",
    "        \n",
    "\"\"\"\n",
    "\n",
    "import matplotlib.pyplot as plt # bibliothéque pour afficher les figures\n",
    "from scipy.stats import randint  # bibliothéque pour génerer une distribution discréte\n",
    "import numpy as np # bibliothéque pour la création d'axe des x\n",
    "\n",
    "\"\"\"\n",
    "                    Déclarations des fonctions qu'on va utiliser \n",
    "\n",
    "\"\"\"\n",
    "\n",
    "def gen_tabel(b,c,n): # Focntion qui va fénérer les valeurs xn \n",
    "    \n",
    "    a=[] # intialisation d'un tableau vide dans lequelle on va stocker les xn\n",
    "    x=randint.rvs(b,c,size=n) #génerer une distrubtion discréte uniforme\n",
    "    for i in x: # boucle for qui va calculer les xn selon les contraintes de la fonction f\n",
    "        if i<b: # premier condition si x<a\n",
    "            a.append(0) # f(x) = 0\n",
    "        elif i>= b and i<c: # si a =< x < b\n",
    "            a.append((1+(i-b)/(c-b+1))) # f(x) = valuer a calculé\n",
    "        elif i>=c: # si x >= b\n",
    "            a.append(1) # f(x) = 1\n",
    "        \n",
    "    return a # retourner le resultat finale de a aprés calcule des xn\n",
    "              \n",
    "def moy_emp(a,n) : # fonction qui calcule la moyenne empérique\n",
    "    \n",
    "    x=0 # determiner n le nombre totale des xn dans a\n",
    "    for j in a:# calcule de Xn barre et retourner la valeur de Xn barre finale\n",
    "        x+=j\n",
    "    return x/n\n",
    "\n",
    "def var_emp(a,xn_,n): # fonction qui calcule la variance empérique\n",
    "    var=0\n",
    "    for i in a:\n",
    "        var+=(i-xn_)**2 # formule qui calcule la variance avec xn_ est la moyenne empérique\n",
    "    return var/n # suite de la formule de la variance\n",
    "\n",
    "\"\"\"\n",
    "                    paramétres de la distrubition\n",
    "\n",
    "\"\"\"\n",
    "\n",
    "n=[10,100,1000,10000] # differents valeurs de n: nombre des échantillons\n",
    "a=5 # differents valeurs de a\n",
    "b=50 # differents valeurs de b\n",
    "Xn=[] # intialisation d'un tableau pour stocker les valeur de la moyenne calculer\n",
    "teta=[] # intialisation d'un tableau pour stocker les valeur de la variance calculer\n",
    "\n",
    "w=np.linspace(0,n, num=len(n)) # calcul d'axe des x\n",
    "\n",
    "for i in n: # boucle for dans la quelle on va varier a et b et calculer la moyenne et la varinca respectivement\n",
    "    t=gen_tabel(a,b,i) # génération d'une table avec n variable alétoire entre a et b d\n",
    "    Xn.append(moy_emp(t,i)) # calcule de la moyenne empérique\n",
    "    teta.append(var_emp(t,moy_emp(t,i),i)) # calcule de la variance empérique\n",
    "\n",
    "print(Xn,\"\\n\",teta) # affichage de la moyenne et la varince avec un retour à la ligne entre chaque valeur\n",
    "\n",
    "\"\"\"\n",
    "                    Affichage des Figuers\n",
    "\n",
    "\"\"\"\n",
    "\n",
    "plt.plot(n,teta,color=\"red\",label=\"Variance empérique\") # dessinier téta en focntion de n avec la couleur Rouge\n",
    "plt.plot(n,Xn,color=\"green\",label=\"Moyenne empérique\") # dessinier Xn barre en fonction de n avec la couleur Vert\n",
    "plt.xlabel(\"Nombre d'echantillon\")\n",
    "plt.ylabel(\"Variables aléatoires\")\n",
    "plt.title(\"Courbe de la moyenne empérique et la variance empérique\")\n",
    "plt.legend()\n",
    "plt.grid() # grid la figure\n",
    "plt.show() # affichier la figure"
   ]
  },
  {
   "cell_type": "code",
   "execution_count": null,
   "id": "8bcbe447-c19c-4fbe-b0e9-3d8cf230c7b9",
   "metadata": {},
   "outputs": [],
   "source": []
  }
 ],
 "metadata": {
  "kernelspec": {
   "display_name": "Python 3",
   "language": "python",
   "name": "python3"
  },
  "language_info": {
   "codemirror_mode": {
    "name": "ipython",
    "version": 3
   },
   "file_extension": ".py",
   "mimetype": "text/x-python",
   "name": "python",
   "nbconvert_exporter": "python",
   "pygments_lexer": "ipython3",
   "version": "3.8.8"
  }
 },
 "nbformat": 4,
 "nbformat_minor": 5
}
